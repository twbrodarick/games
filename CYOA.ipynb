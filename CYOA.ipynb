{
 "cells": [
  {
   "cell_type": "code",
   "execution_count": null,
   "metadata": {},
   "outputs": [],
   "source": [
    "name = input('Type your name... ')\n",
    "print('Welcome', name, 'to this adventure')\n",
    "\n",
    "answer = input(\n",
    "    'You are walking in a dark forest and reach a clearing. The moonlight shows 2 paths marked with small rock piles, one heads left, the other veers right. Which path do you choose?')\n",
    "\n",
    "if answer == 'left':\n",
    "    answer = input('The left path winds around until you reach the shore of a lake. enter walk if you want to walk all the way around it or enter swim if you are brave enough to swim across.)\n",
    "    \n",
    "    if answer == 'swim':\n",
    "        print('Oh shit. This is Crystal Lake. Jason Voorhees pulls you down and chains you to the bottom. Probably should\\'ve remained on shore! ')\n",
    "    elif answer == 'walk':\n",
    "        print('You step on an old sign with an arrow underneath Camp Crystal Lake. A machete flies past your head. Run! Mrs. Voorhees is after you! ')\n",
    "    else:\n",
    "        ('Only 2 options here. Not like you have wings. You are stuck forever in this damned forest. ')\n",
    "\n",
    "\n",
    "\n",
    "else:\n",
    "    print('You have to choose left or right. I guess you have decided to wander this forest forever. Very sad! ')\n",
    "    "
   ]
  },
  {
   "cell_type": "code",
   "execution_count": null,
   "metadata": {},
   "outputs": [],
   "source": []
  }
 ],
 "metadata": {
  "kernelspec": {
   "display_name": "Python 3",
   "language": "python",
   "name": "python3"
  },
  "language_info": {
   "codemirror_mode": {
    "name": "ipython",
    "version": 3
   },
   "file_extension": ".py",
   "mimetype": "text/x-python",
   "name": "python",
   "nbconvert_exporter": "python",
   "pygments_lexer": "ipython3",
   "version": "3.7.4"
  }
 },
 "nbformat": 4,
 "nbformat_minor": 4
}
